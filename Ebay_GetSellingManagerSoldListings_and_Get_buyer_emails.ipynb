{
 "cells": [
  {
   "cell_type": "markdown",
   "metadata": {},
   "source": [
    "### Import Libraries"
   ]
  },
  {
   "cell_type": "code",
   "execution_count": 1,
   "metadata": {
    "collapsed": true
   },
   "outputs": [],
   "source": [
    "import pandas as pd\n",
    "key ='Your Key'\n",
    "token = \"Seller's Token\"\n",
    "devid = 'Your DevId'\n",
    "certid = 'Your CertId'\n",
    "\n",
    "from ebaysdk.trading import Connection as trading\n",
    "from datetime import date\n",
    "from datetime import timedelta"
   ]
  },
  {
   "cell_type": "markdown",
   "metadata": {},
   "source": [
    "### Ebay GetSellingManagerSoldListings Call to get buyer's e-mail"
   ]
  },
  {
   "cell_type": "code",
   "execution_count": 2,
   "metadata": {},
   "outputs": [],
   "source": [
    "# Define SaleDateRange\n",
    "date_from   = \"{}\".format(date.today() - timedelta(90))\n",
    "date_to     = \"{}\".format(date.today() - timedelta(minutes=120))\n",
    "\n",
    "# Trading API Call to find out how many pages to load\n",
    "api = trading(appid= key, devid=devid, certid=certid,  token=token, config_file=None)\n",
    "response = api.execute(\"GetSellingManagerSoldListings\",\n",
    "    {\n",
    "    \"Archived\" : \"false\",\n",
    "    \"SaleDateRange\" : {\n",
    "        \"TimeFrom\" : str(date_from),\n",
    "        \"TimeTo\"   : str(date_to)\n",
    "        },\n",
    "    'Pagination':{'EntriesPerPage': '200'}\n",
    "    }\n",
    ")\n",
    "# pages to load\n",
    "pages = int(response.dict()['PaginationResult']['TotalNumberOfPages']) + 1\n",
    "\n",
    "email_list = []\n",
    "buyer_list = []\n",
    "transaction_list = []\n",
    "order_list = []\n",
    "\n",
    "for page in range(1, pages):\n",
    "    response = api.execute(\"GetSellingManagerSoldListings\",\n",
    "    {\n",
    "    \"Archived\" : \"false\",\n",
    "    \"SaleDateRange\" : {\n",
    "        \"TimeFrom\" : str(date_from),\n",
    "        \"TimeTo\"   : str(date_to)\n",
    "        },\n",
    "    'Pagination':{'PageNumber': str(page), 'EntriesPerPage': '200'}\n",
    "    })\n",
    "    for item in response.dict()[\"SaleRecord\"]:\n",
    "        buyer = item['BuyerID']\n",
    "        buyer_list.append(buyer)\n",
    "                    \n",
    "        \n",
    "\n",
    "        try:\n",
    "            transaction_list.append(item['SellingManagerSoldTransaction']['TransactionID'])\n",
    "        except TypeError:\n",
    "            transaction = item['SellingManagerSoldTransaction'][0]['TransactionID']\n",
    "            transaction_list.append(transaction)\n",
    "        \n",
    "        try:\n",
    "            email = item['BuyerEmail']\n",
    "            email_list.append(email)\n",
    "        except KeyError:\n",
    "            email_list.append(None)\n",
    "\n",
    "        try:\n",
    "            order = item['SellingManagerSoldTransaction']['OrderLineItemID']\n",
    "            order_list.append(order)\n",
    "        except:\n",
    "            order_list.append(None)\n",
    "            "
   ]
  },
  {
   "cell_type": "markdown",
   "metadata": {},
   "source": [
    "### Create a DataFrame with results"
   ]
  },
  {
   "cell_type": "code",
   "execution_count": 6,
   "metadata": {},
   "outputs": [
    {
     "name": "stdout",
     "output_type": "stream",
     "text": [
      "(776, 4)\n"
     ]
    },
    {
     "data": {
      "text/html": [
       "<div>\n",
       "<style>\n",
       "    .dataframe thead tr:only-child th {\n",
       "        text-align: right;\n",
       "    }\n",
       "\n",
       "    .dataframe thead th {\n",
       "        text-align: left;\n",
       "    }\n",
       "\n",
       "    .dataframe tbody tr th {\n",
       "        vertical-align: top;\n",
       "    }\n",
       "</style>\n",
       "<table border=\"1\" class=\"dataframe\">\n",
       "  <thead>\n",
       "    <tr style=\"text-align: right;\">\n",
       "      <th></th>\n",
       "      <th>buyer</th>\n",
       "      <th>e_mail</th>\n",
       "      <th>order_id</th>\n",
       "      <th>transaction_id</th>\n",
       "    </tr>\n",
       "  </thead>\n",
       "  <tbody>\n",
       "    <tr>\n",
       "      <th>0</th>\n",
       "      <td>shop4fun29</td>\n",
       "      <td>devory123@yahoo.com</td>\n",
       "      <td>252759953400-2170252681015</td>\n",
       "      <td>2170252681015</td>\n",
       "    </tr>\n",
       "    <tr>\n",
       "      <th>1</th>\n",
       "      <td>kop1tom</td>\n",
       "      <td>tvioux@hotmail.com</td>\n",
       "      <td>263308620913-2133787608016</td>\n",
       "      <td>2133787608016</td>\n",
       "    </tr>\n",
       "    <tr>\n",
       "      <th>2</th>\n",
       "      <td>nehchoks0</td>\n",
       "      <td>neha@vijisan.com</td>\n",
       "      <td>263282014002-2133759316016</td>\n",
       "      <td>2133759316016</td>\n",
       "    </tr>\n",
       "    <tr>\n",
       "      <th>3</th>\n",
       "      <td>gbailey*09</td>\n",
       "      <td>mbailey@gladstonellc.com</td>\n",
       "      <td>252967372142-2170049326015</td>\n",
       "      <td>2170049326015</td>\n",
       "    </tr>\n",
       "    <tr>\n",
       "      <th>4</th>\n",
       "      <td>sky_mms</td>\n",
       "      <td>murilomsantos@gmail.com</td>\n",
       "      <td>253122839968-2170007387015</td>\n",
       "      <td>2170007387015</td>\n",
       "    </tr>\n",
       "  </tbody>\n",
       "</table>\n",
       "</div>"
      ],
      "text/plain": [
       "        buyer                    e_mail                    order_id  \\\n",
       "0  shop4fun29       devory123@yahoo.com  252759953400-2170252681015   \n",
       "1     kop1tom        tvioux@hotmail.com  263308620913-2133787608016   \n",
       "2   nehchoks0          neha@vijisan.com  263282014002-2133759316016   \n",
       "3  gbailey*09  mbailey@gladstonellc.com  252967372142-2170049326015   \n",
       "4     sky_mms   murilomsantos@gmail.com  253122839968-2170007387015   \n",
       "\n",
       "  transaction_id  \n",
       "0  2170252681015  \n",
       "1  2133787608016  \n",
       "2  2133759316016  \n",
       "3  2170049326015  \n",
       "4  2170007387015  "
      ]
     },
     "execution_count": 6,
     "metadata": {},
     "output_type": "execute_result"
    }
   ],
   "source": [
    "data = pd.DataFrame({'buyer': buyer_list,\n",
    "                     'e_mail': email_list,\n",
    "                     'order_id':order_list,\n",
    "                     'transaction_id': transaction_list})\n",
    "print data.shape\n",
    "data.head()"
   ]
  },
  {
   "cell_type": "code",
   "execution_count": null,
   "metadata": {
    "collapsed": true
   },
   "outputs": [],
   "source": []
  }
 ],
 "metadata": {
  "kernelspec": {
   "display_name": "Python 2",
   "language": "python",
   "name": "python2"
  },
  "language_info": {
   "codemirror_mode": {
    "name": "ipython",
    "version": 2
   },
   "file_extension": ".py",
   "mimetype": "text/x-python",
   "name": "python",
   "nbconvert_exporter": "python",
   "pygments_lexer": "ipython2",
   "version": "2.7.13"
  }
 },
 "nbformat": 4,
 "nbformat_minor": 2
}
