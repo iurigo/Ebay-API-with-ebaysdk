{
 "cells": [
  {
   "cell_type": "markdown",
   "metadata": {},
   "source": [
    "### Find similar items by keyword and send notification by e-mail"
   ]
  },
  {
   "cell_type": "code",
   "execution_count": 3,
   "metadata": {
    "collapsed": true
   },
   "outputs": [],
   "source": [
    "import json\n",
    "import requests\n",
    "from bs4 import BeautifulSoup\n",
    "from email.mime.multipart import MIMEMultipart\n",
    "from email.mime.text import MIMEText\n",
    "import smtplib\n",
    "from email.mime.multipart import MIMEMultipart\n",
    "from email.mime.text import MIMEText\n",
    "import smtplib\n",
    "key ='Your Key'"
   ]
  },
  {
   "cell_type": "markdown",
   "metadata": {},
   "source": [
    "#### Define function to send results"
   ]
  },
  {
   "cell_type": "code",
   "execution_count": 26,
   "metadata": {
    "collapsed": true,
    "scrolled": true
   },
   "outputs": [],
   "source": [
    "def sendemail(url, title, price):\n",
    "    msg = MIMEMultipart()\n",
    "    msg['From'] = 'From E-mail'\n",
    "    msg['To'] = 'To E-mail'\n",
    "    password = 'Password'\n",
    "    msg['Subject'] = 'Item found!'\n",
    "    body = \"<a href= \\\"\" + url + \"\\\">\" + title + \"</a><br><p>Price: \" + price + \"</p>\"\n",
    "    msg.attach(MIMEText(body, 'html'))\n",
    "\n",
    "    server = smtplib.SMTP('smtp.gmail.com', 587)\n",
    "    server.starttls()\n",
    "    server.login(msg['From'], password)\n",
    "    server.sendmail(msg['From'], msg['To'], msg.as_string())\n",
    "    server.quit()"
   ]
  },
  {
   "cell_type": "markdown",
   "metadata": {},
   "source": [
    "#### Search items by keywords and send results using fuction above"
   ]
  },
  {
   "cell_type": "code",
   "execution_count": 30,
   "metadata": {
    "scrolled": true
   },
   "outputs": [
    {
     "name": "stdout",
     "output_type": "stream",
     "text": [
      "item already alerted\n",
      "item already alerted\n",
      "item already alerted\n",
      "item already alerted\n",
      "item already alerted\n",
      "item already alerted\n",
      "item already alerted\n"
     ]
    }
   ],
   "source": [
    "searches = []\n",
    "\n",
    "with open('searches.txt', 'r') as searchfile:\n",
    "    searches = searchfile.readlines()\n",
    "with open('itemid.txt', 'r') as itemfile:\n",
    "    itemids = itemfile.read().splitlines()\n",
    "    \n",
    "\n",
    "for item in searches:\n",
    "    search = item.split(',')[0]\n",
    "    max_price = item.split(',')[1]\n",
    "    url = ('http://svcs.ebay.com/services/search/FindingService/v1\\\n",
    "?OPERATION-NAME=findItemsByKeywords\\\n",
    "&sortOrder=PricePlusShippingLowest\\\n",
    "&buyerPostalCode=11235&SERVICE-VERSION=1.13.0\\\n",
    "&SECURITY-APPNAME=' + key +\n",
    "'&RESPONSE-DATA-FORMAT=JSON\\\n",
    "&REST-PAYLOAD\\\n",
    "&itemFilter(0).name=Condition\\\n",
    "&itemFilter(0).value=New\\\n",
    "&itemFilter(1).name=MaxPrice\\\n",
    "&itemFilter(1).value=' + max_price +\\\n",
    "'&itemFilter(1).paramName=Currency\\\n",
    "&itemFilter(1).paramValue=USD\\\n",
    "&keywords=' + search)\n",
    "    url = url.replace(' ', '%20')\n",
    "    apiResult = requests.get(url)\n",
    "    parseddoc = apiResult.json()\n",
    "    for item in (parseddoc[\"findItemsByKeywordsResponse\"][0][\"searchResult\"][0][\"item\"]):\n",
    "        itemid = item['itemId'][0]\n",
    "        url = item['viewItemURL'][0]\n",
    "        title = item[\"title\"][0]\n",
    "        condition = item['condition'][0]['conditionDisplayName'][0]\n",
    "        price = item['sellingStatus'][0][\"convertedCurrentPrice\"][0]['__value__']\n",
    "        if itemid in itemids:\n",
    "            print 'item already alerted'\n",
    "        else:\n",
    "            with open('itemid.txt', 'a') as itemfile:\n",
    "                itemfile.write(itemid + '\\n')\n",
    "            sendemail(url, title, price)\n"
   ]
  },
  {
   "cell_type": "code",
   "execution_count": null,
   "metadata": {
    "collapsed": true
   },
   "outputs": [],
   "source": []
  }
 ],
 "metadata": {
  "kernelspec": {
   "display_name": "Python 2",
   "language": "python",
   "name": "python2"
  },
  "language_info": {
   "codemirror_mode": {
    "name": "ipython",
    "version": 2
   },
   "file_extension": ".py",
   "mimetype": "text/x-python",
   "name": "python",
   "nbconvert_exporter": "python",
   "pygments_lexer": "ipython2",
   "version": "2.7.13"
  }
 },
 "nbformat": 4,
 "nbformat_minor": 2
}
